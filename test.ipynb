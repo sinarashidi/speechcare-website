{
 "cells": [
  {
   "cell_type": "code",
   "execution_count": 1,
   "metadata": {},
   "outputs": [],
   "source": [
    "import replicate\n",
    "import matplotlib.pyplot as plt\n",
    "from time import perf_counter\n",
    "import os\n",
    "\n",
    "os.environ[\"REPLICATE_API_TOKEN\"] = \"r8_O7nxYhRjsHC4gGSMo53PnForFGDwqDb27XOfl\" \n",
    "\n",
    "with open(\"amhc.wav\", \"rb\") as audio_file:\n",
    "    output = replicate.run(\n",
    "    \"neurotechanalytics/speechcare:a9468353cb7e9c47ee573e3212b4427fdab1cef1cc170920e6ed0125dd7c26ab\",\n",
    "    input={\n",
    "        \"age\": 63,\n",
    "        \"mode\": \"explain_speech\",\n",
    "        \"audio\": audio_file,\n",
    "        }\n",
    "    )"
   ]
  },
  {
   "cell_type": "code",
   "execution_count": 2,
   "metadata": {},
   "outputs": [
    {
     "name": "stdout",
     "output_type": "stream",
     "text": [
      "https://replicate.delivery/czjl/1nGtZNYWyq7xIRlRPtxJQnHs2AaCvDJVx1JVG1ske28VJxHKA/speech_shap_tmpb3w_hnxedownload.png\n"
     ]
    }
   ],
   "source": [
    "print(output)"
   ]
  },
  {
   "cell_type": "code",
   "execution_count": null,
   "metadata": {},
   "outputs": [],
   "source": []
  }
 ],
 "metadata": {
  "kernelspec": {
   "display_name": "base",
   "language": "python",
   "name": "python3"
  },
  "language_info": {
   "codemirror_mode": {
    "name": "ipython",
    "version": 3
   },
   "file_extension": ".py",
   "mimetype": "text/x-python",
   "name": "python",
   "nbconvert_exporter": "python",
   "pygments_lexer": "ipython3",
   "version": "3.12.2"
  }
 },
 "nbformat": 4,
 "nbformat_minor": 2
}
